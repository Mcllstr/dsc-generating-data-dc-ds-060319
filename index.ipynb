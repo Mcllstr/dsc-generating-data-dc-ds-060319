{
 "cells": [
  {
   "cell_type": "markdown",
   "metadata": {},
   "source": [
    "# Generating Data - Codealong"
   ]
  },
  {
   "cell_type": "markdown",
   "metadata": {},
   "source": [
    "## Introduction\n",
    "Data analysis often require analysts to test the efficiency/performance of an algorithm with a certain type of data. In such cases, the focus is not to answer some analytical question as we have seen earlier, but to test some machine learning hypothesis dealing with , say, comparing two different algorithms to see which one gives a higher level of accuracy. In such cases, the analysts would normally deal with synthetic random data which they generate themselves. This lab and upcoming lesson will highlight some data generation techniques that you can use later to learn new algorithms while not indulging too much into the domain knowledge.  "
   ]
  },
  {
   "cell_type": "markdown",
   "metadata": {},
   "source": [
    "## Objectives\n",
    "You will be able to :\n",
    "\n",
    "* Generate datasets for classification problems \n",
    "* Generate datasets for regression problems "
   ]
  },
  {
   "cell_type": "markdown",
   "metadata": {},
   "source": [
    "## Practice Datasets\n",
    "\n",
    "Practice datasets reflect simple problems that allowing testing and debugging of the algorithms and test its robustness. They are also used for understanding the behavior of algorithms in response to changes in model parameters as we shall see with some ML algorithms. Following are some of the reasons why such datasets are preferred over real world datasets:\n",
    "- Quick and Easy generation - save data collection time  and efforts\n",
    "- Predictable outcomes - have a higher degree of confidence in the result\n",
    "- Randomization - datasets can be randomized repeatedly to inspect performance in multiple cases\n",
    "- Simple data types - easier to visualize data and outcomes\n",
    "\n",
    "In this lesson, we shall cover some of the python functions that can help us generate random datasets. "
   ]
  },
  {
   "cell_type": "markdown",
   "metadata": {},
   "source": [
    "## `make_blobs()`"
   ]
  },
  {
   "cell_type": "markdown",
   "metadata": {},
   "source": [
    "Official doc. for this function can be found [HERE](https://scikit-learn.org/stable/modules/generated/sklearn.datasets.make_blobs.html). This function generates isotropic Gaussian blobs for clustering and classification problems, similar to the ones we earlier saw with Naive Bayes Algorithm. We can control how many blobs to generate and the number of samples to generate, as well as a host of other properties. Let's see how to import this in python environment. \n",
    "```python\n",
    "from sklearn.datasets.samples_generator import make_blobs\n",
    "```"
   ]
  },
  {
   "cell_type": "code",
   "execution_count": null,
   "metadata": {},
   "outputs": [],
   "source": [
    "# Code here \n",
    "from sklearn.datasets.samples_generator import make_blobs\n",
    "# Import other libs.\n",
    "import matplotlib.pyplot as plt\n",
    "import pandas as pd"
   ]
  },
  {
   "cell_type": "code",
   "execution_count": 2,
   "metadata": {},
   "outputs": [
    {
     "data": {
      "text/plain": [
       "function"
      ]
     },
     "execution_count": 2,
     "metadata": {},
     "output_type": "execute_result"
    }
   ],
   "source": [
    "type(make_blobs)"
   ]
  },
  {
   "cell_type": "markdown",
   "metadata": {},
   "source": [
    "Let's now generate a 2D dataset of samples with three blobs as a multi-class classification prediction problem. Each observation will have two inputs and 0, 1, or 2 class values.\n",
    "\n",
    "```python\n",
    "X, y = make_blobs(n_samples=100, centers=3, n_features=2)\n",
    "```"
   ]
  },
  {
   "cell_type": "code",
   "execution_count": 19,
   "metadata": {},
   "outputs": [],
   "source": [
    "# Code here\n",
    "X, y = make_blobs(n_samples=100, centers=5, n_features=2)"
   ]
  },
  {
   "cell_type": "code",
   "execution_count": 20,
   "metadata": {},
   "outputs": [
    {
     "data": {
      "text/plain": [
       "array([[ -9.47779223, -10.19427208],\n",
       "       [ -5.56911652,  -5.29838675],\n",
       "       [ -6.69844138,   3.87625647],\n",
       "       [  3.45638287,   2.60198578],\n",
       "       [  3.54120434,   2.41933192],\n",
       "       [ -8.62335963,   1.33211057],\n",
       "       [ -2.97356782,   9.66601383],\n",
       "       [ -7.76653749,   2.38088138],\n",
       "       [ -3.52411026,  -5.80243766],\n",
       "       [ -3.66302087,  -8.12948459],\n",
       "       [ -1.71146159,  11.07018755],\n",
       "       [ -4.60771392,  -7.01734752],\n",
       "       [ -1.6181145 ,   7.8489239 ],\n",
       "       [ -5.56788003,  -6.5806079 ],\n",
       "       [ -7.8188331 ,  -8.57581767],\n",
       "       [ -7.81605822,   4.71421908],\n",
       "       [ -7.74586549,  -9.38255431],\n",
       "       [ -1.70094874,   9.06089216],\n",
       "       [ -5.0220639 ,  -7.21599134],\n",
       "       [ -8.15167853,   2.59494921],\n",
       "       [ -3.5214644 ,  -6.14603342],\n",
       "       [ -5.57580464,  -5.45385597],\n",
       "       [ -9.46370065,   2.86442339],\n",
       "       [  1.96648938,   4.20875786],\n",
       "       [ -9.35015956,  -7.30508026],\n",
       "       [  2.89221616,   3.77250364],\n",
       "       [  2.71217353,   4.43835104],\n",
       "       [ -7.45620038,   3.99002199],\n",
       "       [ -4.20537765,  -6.24832463],\n",
       "       [ -2.00084075,   9.83589468],\n",
       "       [ -7.79818737,  -8.77962092],\n",
       "       [  3.04668498,   3.52194348],\n",
       "       [ -6.08106352,  -6.80652847],\n",
       "       [  2.97862646,   2.65859557],\n",
       "       [  4.51453435,   3.17436766],\n",
       "       [-10.47306638,  -9.50032616],\n",
       "       [ -8.06086158,   4.12542883],\n",
       "       [ -7.52623287,   2.90030467],\n",
       "       [  2.74043181,   2.72968162],\n",
       "       [ -4.61790879,  -5.52390158],\n",
       "       [ -8.70524394,   2.10659434],\n",
       "       [-10.00542752, -10.56603501],\n",
       "       [ -8.74651921,   0.62388552],\n",
       "       [ -4.54838487,  -4.58492413],\n",
       "       [ -7.38161752,  -8.43606654],\n",
       "       [  3.90716545,   3.5868169 ],\n",
       "       [  3.19083853,   2.38108035],\n",
       "       [ -3.62966364,  -7.08116706],\n",
       "       [ -9.28388634,   3.01932563],\n",
       "       [ -5.5075473 ,  -9.9347874 ],\n",
       "       [  3.52489915,   1.6487827 ],\n",
       "       [ -2.3559034 ,  10.94416013],\n",
       "       [  4.91653067,   2.81951045],\n",
       "       [ -2.57535343,  10.76001481],\n",
       "       [ -8.38328397,   5.49788099],\n",
       "       [ -9.33133752,  -7.75901032],\n",
       "       [  3.84839869,   4.77546016],\n",
       "       [  2.92612967,   3.58247087],\n",
       "       [ -3.32438161,  10.492958  ],\n",
       "       [  3.49278101,   3.24686206],\n",
       "       [ -8.95391771,  -8.98064174],\n",
       "       [  1.78865902,   2.43119422],\n",
       "       [ -7.45634749,  -9.14899043],\n",
       "       [  4.58881901,   4.92370798],\n",
       "       [ -8.76162587,  -8.16369223],\n",
       "       [ -8.20301612,  -9.2283936 ],\n",
       "       [ -6.78289842,  -9.19633613],\n",
       "       [  3.20074557,   2.42066292],\n",
       "       [ -6.5227784 ,  -6.67966011],\n",
       "       [ -1.21257473,   7.41499517],\n",
       "       [ -2.31719262,   9.64967028],\n",
       "       [ -2.28875341,   8.72479955],\n",
       "       [ -4.32079383,  -5.51107708],\n",
       "       [ -8.40515409,   3.83673478],\n",
       "       [ -8.29060636,  -8.68616197],\n",
       "       [ -8.06443516,  -8.90359576],\n",
       "       [ -9.45334642,   3.75601612],\n",
       "       [ -9.1227654 ,   2.27236311],\n",
       "       [ -1.27147219,  10.97828162],\n",
       "       [ -1.05955211,   7.45735189],\n",
       "       [ -5.63751361,  -6.15019746],\n",
       "       [ -1.97844148,  12.74666742],\n",
       "       [ -6.70298854,  -9.50674054],\n",
       "       [ -5.51590171,  -7.4446989 ],\n",
       "       [  3.08442186,   3.82172197],\n",
       "       [ -2.89345877,  10.45326302],\n",
       "       [ -2.3764823 ,   8.37900551],\n",
       "       [ -9.27520423,  -9.14154139],\n",
       "       [ -9.24158957,   2.09800569],\n",
       "       [ -1.42487466,   8.11287463],\n",
       "       [ -8.79906509,  -9.89726727],\n",
       "       [ -3.76793097,  10.26074399],\n",
       "       [ -6.80667766,  -6.91113628],\n",
       "       [ -8.94628374,   4.32522501],\n",
       "       [ -1.99677126,   9.89728329],\n",
       "       [ -4.67225583,  -7.03319355],\n",
       "       [ -5.07531453,  -5.86274975],\n",
       "       [ -8.07039272,   3.10258835],\n",
       "       [ -2.0824677 ,   8.89170433],\n",
       "       [ -5.12155229,   2.64467211]])"
      ]
     },
     "execution_count": 20,
     "metadata": {},
     "output_type": "execute_result"
    }
   ],
   "source": [
    "X"
   ]
  },
  {
   "cell_type": "markdown",
   "metadata": {},
   "source": [
    "Now we can go ahead and visualize the results as below:\n",
    "    \n",
    "```python\n",
    "# plot a scatter plot, color \n",
    "df = pd.DataFrame(dict(x=X[:,0], y=X[:,1], label=y))\n",
    "colors = {0:'red', 1:'blue', 2:'green'}\n",
    "fig, ax = pyplot.subplots()\n",
    "grouped = df.groupby('label')\n",
    "for key, group in grouped:\n",
    "    group.plot(ax=ax, kind='scatter', x='x', y='y', label=key, color=colors[key])\n",
    "plt.show()\n",
    "```\n",
    "    "
   ]
  },
  {
   "cell_type": "code",
   "execution_count": 23,
   "metadata": {},
   "outputs": [
    {
     "data": {
      "image/png": "[encoded data removed]",
      "text/plain": [
       "<Figure size 432x288 with 1 Axes>"
      ]
     },
     "metadata": {
      "needs_background": "light"
     },
     "output_type": "display_data"
    }
   ],
   "source": [
    "# plot a scatter plot, color \n",
    "df = pd.DataFrame(dict(x=X[:,0], y=X[:,1], label=y))\n",
    "colors = {0:'red', 1:'blue', 2:'green', 3:'purple', 4:'yellow'}\n",
    "fig, ax = plt.subplots()\n",
    "grouped = df.groupby('label')\n",
    "for key, group in grouped:\n",
    "    group.plot(ax=ax, kind='scatter', x='x', y='y', label=key, color=colors[key])\n",
    "plt.show()"
   ]
  },
  {
   "cell_type": "markdown",
   "metadata": {},
   "source": [
    "So above we see three different classes. We can generate any number of classes from above. This dataset can be used with a number of classifiers to see how accurately they perform. "
   ]
  },
  {
   "cell_type": "markdown",
   "metadata": {},
   "source": [
    "## `make_moons()`"
   ]
  },
  {
   "cell_type": "markdown",
   "metadata": {},
   "source": [
    "This function is used for binary classification problems with two classes and generates moon shaped patterns. This function allows you to create dataset and specify the level of noise in the data. That helps you make the dataset more complex if required to test the robustness of an algorithm . This is how you import this function from sklearn :\n",
    "```python\n",
    "from sklearn.datasets import make_moons\n",
    "X, y = make_moons(n_samples=100, noise=0.1)\n",
    "```\n"
   ]
  },
  {
   "cell_type": "code",
   "execution_count": 30,
   "metadata": {},
   "outputs": [],
   "source": [
    "from sklearn.datasets import make_moons\n",
    "X, y = make_moons(n_samples=100, noise=0.07)"
   ]
  },
  {
   "cell_type": "markdown",
   "metadata": {},
   "source": [
    "Now we can simply use the code from last example for visualization of the data "
   ]
  },
  {
   "cell_type": "code",
   "execution_count": 31,
   "metadata": {},
   "outputs": [
    {
     "data": {
      "image/png": "[encoded data removed]",
      "text/plain": [
       "<Figure size 432x288 with 1 Axes>"
      ]
     },
     "metadata": {
      "needs_background": "light"
     },
     "output_type": "display_data"
    }
   ],
   "source": [
    "df = pd.DataFrame(dict(x=X[:,0], y=X[:,1], label=y))\n",
    "colors = {0:'red', 1:'blue', 2:'green', 3:'purple', 4:'yellow'}\n",
    "fig, ax = plt.subplots()\n",
    "grouped = df.groupby('label')\n",
    "for key, group in grouped:\n",
    "    group.plot(ax=ax, kind='scatter', x='x', y='y', label=key, color=colors[key])\n",
    "plt.show()\n"
   ]
  },
  {
   "cell_type": "markdown",
   "metadata": {},
   "source": [
    "The noise parameter controls the shape of the data generated , Give it different values from 0 to 1 above and inspect the outcome. 0 noise would generate perfect moon shapes and 1 would be just noise and no underlying pattern. We can also see that this pattern is not \"linearly separable\" i.e. we can not draw a straight line to separate classes, this helps us try our non linear classification functions (like sigmoid and tanh etc.) "
   ]
  },
  {
   "cell_type": "markdown",
   "metadata": {},
   "source": [
    " ## `make_circles()` "
   ]
  },
  {
   "cell_type": "markdown",
   "metadata": {},
   "source": [
    "This function further complicates the generated data and creates values in form of concentric circles. It also features a noise parameter , similar to make_moons(). Below is how you import this function.  \n",
    "```python\n",
    "from sklearn.datasets import make_circles\n",
    "X, y = make_circles(n_samples=100, noise=0.05)\n",
    "```"
   ]
  },
  {
   "cell_type": "code",
   "execution_count": 64,
   "metadata": {},
   "outputs": [],
   "source": [
    "from sklearn.datasets import make_circles\n",
    "X, y = make_circles(n_samples=100, noise=0.05)"
   ]
  },
  {
   "cell_type": "markdown",
   "metadata": {},
   "source": [
    "Bring in the plotting code from previous examples"
   ]
  },
  {
   "cell_type": "code",
   "execution_count": 65,
   "metadata": {},
   "outputs": [
    {
     "data": {
      "image/png": "[encoded data removed]",
      "text/plain": [
       "<matplotlib.figure.Figure at 0x1a1cf0a198>"
      ]
     },
     "metadata": {},
     "output_type": "display_data"
    }
   ],
   "source": [
    "# Code here "
   ]
  },
  {
   "cell_type": "markdown",
   "metadata": {},
   "source": [
    "This is also suitable for testing complex , non-linear classifiers. "
   ]
  },
  {
   "cell_type": "markdown",
   "metadata": {},
   "source": [
    " ## `make_regression()`"
   ]
  },
  {
   "cell_type": "markdown",
   "metadata": {},
   "source": [
    "This function allows you to create datasets which can be used to test regression algorithms for linear regression. Regression can be performed with a number of algorithms ranging from least squares to more advanced deep networks. We can create datasets by setting number of samples, number of input features, level of noise, and much more. Here is how we import this function:\n",
    "\n",
    "```python\n",
    "from sklearn.datasets import make_regression\n",
    "X, y = make_regression(n_samples=100, n_features=1, noise=0.1)\n",
    "\n",
    "# plot regression dataset\n",
    "plt.scatter(X,y)\n",
    "plt.show()\n",
    "\n",
    "```\n"
   ]
  },
  {
   "cell_type": "code",
   "execution_count": 76,
   "metadata": {},
   "outputs": [],
   "source": [
    "# Code here "
   ]
  },
  {
   "cell_type": "code",
   "execution_count": 77,
   "metadata": {},
   "outputs": [
    {
     "data": {
      "image/png": "[encoded data removed]",
      "text/plain": [
       "<matplotlib.figure.Figure at 0x1a1cc81128>"
      ]
     },
     "metadata": {},
     "output_type": "display_data"
    }
   ],
   "source": [
    "# Code here "
   ]
  },
  {
   "cell_type": "markdown",
   "metadata": {},
   "source": [
    "We can further tweak the generated parameters to create non-linear relationships which can be solved using non-linear regression techniques. \n",
    "\n",
    "```python\n",
    "\n",
    "# Create a new y\n",
    "y2 = y**2\n",
    "y3 = y**3\n",
    "# plot regression dataset\n",
    "plt.scatter(X,y2)\n",
    "plt.show()\n",
    "plt.scatter(X,y3)\n",
    "plt.show()\n",
    "```"
   ]
  },
  {
   "cell_type": "code",
   "execution_count": 84,
   "metadata": {},
   "outputs": [
    {
     "data": {
      "image/png": "[encoded data removed]",
      "text/plain": [
       "<matplotlib.figure.Figure at 0x1a1c987d30>"
      ]
     },
     "metadata": {},
     "output_type": "display_data"
    },
    {
     "data": {
      "image/png": "[encoded data removed]",
      "text/plain": [
       "<matplotlib.figure.Figure at 0x1a1ca319e8>"
      ]
     },
     "metadata": {},
     "output_type": "display_data"
    }
   ],
   "source": [
    "# Code here "
   ]
  },
  {
   "cell_type": "markdown",
   "metadata": {},
   "source": [
    "## Level up - Optional \n",
    "\n",
    "sklearn comes with a lot of data generation functions. We have seen a few popular ones in this context. Kindly visit [This link](https://scikit-learn.org/stable/datasets/index.html) and have a look at section 5.4 to get more practice with these functions and see other similar functions. "
   ]
  },
  {
   "cell_type": "markdown",
   "metadata": {},
   "source": [
    "## Summary \n",
    "\n",
    "In this lesson, we looked at generating random datasets for classification and regression tasks using sklearn's built in functions. We looked at some of the attributes for generating data and you are encouraged to dig deeper with the official doc. and see what else can you achieve with more parameters. While learning a new algorithm, these synthetic datasets help you take your focus off the domain and work only with the computational and performance aspects of the algorithm. "
   ]
  }
 ],
 "metadata": {
  "kernelspec": {
   "display_name": "Python 3",
   "language": "python",
   "name": "python3"
  },
  "language_info": {
   "codemirror_mode": {
    "name": "ipython",
    "version": 3
   },
   "file_extension": ".py",
   "mimetype": "text/x-python",
   "name": "python",
   "nbconvert_exporter": "python",
   "pygments_lexer": "ipython3",
   "version": "3.6.6"
  }
 },
 "nbformat": 4,
 "nbformat_minor": 2
}
