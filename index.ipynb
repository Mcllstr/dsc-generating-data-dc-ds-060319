{
 "cells": [
  {
   "cell_type": "markdown",
   "metadata": {},
   "source": [
    "# Generating Data - Codealong"
   ]
  },
  {
   "cell_type": "markdown",
   "metadata": {},
   "source": [
    "## Introduction\n",
    "Data analysis often require analysts to test the efficiency/performance of an algorithm with a certain type of data. In such cases, the focus is not to answer some analytical question as we have seen earlier, but to test some machine learning hypothesis dealing with , say, comparing two different algorithms to see which one gives a higher level of accuracy. In such cases, the analysts would normally deal with synthetic random data which they generate themselves. This lab and upcoming lesson will highlight some data generation techniques that you can use later to learn new algorithms while not indulging too much into the domain knowledge.  "
   ]
  },
  {
   "cell_type": "markdown",
   "metadata": {},
   "source": [
    "## Objectives\n",
    "You will be able to :\n",
    "\n",
    "* Generate datasets for classification problems \n",
    "* Generate datasets for regression problems "
   ]
  },
  {
   "cell_type": "markdown",
   "metadata": {},
   "source": [
    "## Practice Datasets\n",
    "\n",
    "Practice datasets reflect simple problems that allowing testing and debugging of the algorithms and test its robustness. They are also used for understanding the behavior of algorithms in response to changes in model parameters as we shall see with some ML algorithms. Following are some of the reasons why such datasets are preferred over real world datasets:\n",
    "- Quick and Easy generation - save data collection time  and efforts\n",
    "- Predictable outcomes - have a higher degree of confidence in the result\n",
    "- Randomization - datasets can be randomized repeatedly to inspect performance in multiple cases\n",
    "- Simple data types - easier to visualize data and outcomes\n",
    "\n",
    "In this lesson, we shall cover some of the python functions that can help us generate random datasets. "
   ]
  },
  {
   "cell_type": "markdown",
   "metadata": {},
   "source": [
    "## `make_blobs()`"
   ]
  },
  {
   "cell_type": "markdown",
   "metadata": {},
   "source": [
    "Official doc. for this function can be found [HERE](https://scikit-learn.org/stable/modules/generated/sklearn.datasets.make_blobs.html). This function generates isotropic Gaussian blobs for clustering and classification problems, similar to the ones we earlier saw with Naive Bayes Algorithm. We can control how many blobs to generate and the number of samples to generate, as well as a host of other properties. Let's see how to import this in python environment. \n",
    "```python\n",
    "from sklearn.datasets.samples_generator import make_blobs\n",
    "```"
   ]
  },
  {
   "cell_type": "code",
   "execution_count": 5,
   "metadata": {},
   "outputs": [],
   "source": [
    "# Code here \n",
    "from sklearn.datasets.samples_generator import make_blobs\n",
    "# Import other libs.\n",
    "import matplotlib.pyplot as plt\n",
    "import pandas as pd"
   ]
  },
  {
   "cell_type": "code",
   "execution_count": 6,
   "metadata": {},
   "outputs": [
    {
     "data": {
      "text/plain": [
       "function"
      ]
     },
     "execution_count": 6,
     "metadata": {},
     "output_type": "execute_result"
    }
   ],
   "source": [
    "type(make_blobs)"
   ]
  },
  {
   "cell_type": "markdown",
   "metadata": {},
   "source": [
    "Let's now generate a 2D dataset of samples with three blobs as a multi-class classification prediction problem. Each observation will have two inputs and 0, 1, or 2 class values.\n",
    "\n",
    "```python\n",
    "X, y = make_blobs(n_samples=100, centers=3, n_features=2)\n",
    "```"
   ]
  },
  {
   "cell_type": "code",
   "execution_count": 7,
   "metadata": {},
   "outputs": [],
   "source": [
    "# Code here\n",
    "X, y = make_blobs(n_samples=100, centers=5, n_features=2)"
   ]
  },
  {
   "cell_type": "code",
   "execution_count": 8,
   "metadata": {},
   "outputs": [
    {
     "data": {
      "text/plain": [
       "array([[ -9.32862741,  -7.22639157],\n",
       "       [ -6.92937404,   2.89949519],\n",
       "       [ -8.38294617,   3.78187273],\n",
       "       [ -8.26016908,  -4.05848784],\n",
       "       [ -1.98856558,   2.51699268],\n",
       "       [-10.36707261,  -4.61503875],\n",
       "       [ -8.69952672,   2.63147511],\n",
       "       [-10.17194003,   1.80789125],\n",
       "       [ -0.50343671,   2.06077613],\n",
       "       [ -2.22625585,  -0.10007303],\n",
       "       [ -8.24021659,  -0.16853481],\n",
       "       [ -5.51931449,   5.01709994],\n",
       "       [ -1.5089389 ,   2.75519674],\n",
       "       [ -0.26937999,   2.15021684],\n",
       "       [ -7.87339679,   2.6251854 ],\n",
       "       [ -7.71804728,  -0.35702626],\n",
       "       [ -1.51770167,   2.47742481],\n",
       "       [ -1.57868708,   2.21865259],\n",
       "       [ -9.06768783,  -0.19990721],\n",
       "       [ -5.41291833,   3.63912377],\n",
       "       [-10.15642917,  -5.99250902],\n",
       "       [ -8.89108545,  -5.4802811 ],\n",
       "       [ -7.49917241,  -5.35918054],\n",
       "       [-10.20483755,  -4.88430727],\n",
       "       [ -2.80027594,   3.97051834],\n",
       "       [ -6.30292464,   2.63894834],\n",
       "       [ -8.93598751,   0.7210489 ],\n",
       "       [  0.51104165,   2.24847524],\n",
       "       [ -8.99352695,   0.4557702 ],\n",
       "       [ -1.36176043,   2.92781519],\n",
       "       [ -6.31290423,   3.37801255],\n",
       "       [ -6.71478777,   4.42965397],\n",
       "       [ -0.95659095,   2.53249107],\n",
       "       [ -6.98652759,   3.96574476],\n",
       "       [ -7.89682539,   2.82295469],\n",
       "       [ -7.67649807,   2.86726303],\n",
       "       [ -6.53040826,   4.01920992],\n",
       "       [ -0.83071315,   2.60602263],\n",
       "       [ -8.89986296,  -0.03672911],\n",
       "       [ -7.19543317,   3.14652458],\n",
       "       [ -8.39259197,   3.56037387],\n",
       "       [ -8.07003787,  -5.5364263 ],\n",
       "       [ -9.65803095,   0.76992249],\n",
       "       [ -7.77965496,   2.03368571],\n",
       "       [ -9.66032053,   0.8766991 ],\n",
       "       [ -9.8319478 ,   1.50189547],\n",
       "       [ -7.64382803,   0.07487737],\n",
       "       [ -8.92192231,   1.39570248],\n",
       "       [ -6.71052439,   4.98228179],\n",
       "       [ -8.57242158,  -0.40393522],\n",
       "       [ -6.26510506,   2.78708118],\n",
       "       [ -6.61414711,   1.8764628 ],\n",
       "       [ -8.08002882,   4.00075841],\n",
       "       [ -8.04372948,   3.39742833],\n",
       "       [ -7.51733692,   1.90749697],\n",
       "       [ -6.57569901,   3.74888363],\n",
       "       [ -7.70961967,   3.70219205],\n",
       "       [ -5.26303695,   3.09030976],\n",
       "       [ -8.28812084,   2.3741012 ],\n",
       "       [ -9.54893412,   3.33480288],\n",
       "       [ -7.42701634,  -3.94848999],\n",
       "       [ -6.67807804,   5.42548225],\n",
       "       [ -8.42454826,   2.03863908],\n",
       "       [ -8.80155961,   2.83398681],\n",
       "       [ -8.65924505,  -6.58591516],\n",
       "       [ -7.39010881,  -4.20755666],\n",
       "       [ -0.39725693,   2.6865761 ],\n",
       "       [-10.44139429,   0.63929444],\n",
       "       [ -8.84055713,  -5.68148655],\n",
       "       [ -7.21037929,   2.95525078],\n",
       "       [ -9.45059618,  -7.51006433],\n",
       "       [ -0.83901995,   1.69895069],\n",
       "       [ -1.77964948,   2.7114146 ],\n",
       "       [ -6.52749716,   4.15511913],\n",
       "       [  1.14435689,   2.25570406],\n",
       "       [ -8.81161604,   2.8349933 ],\n",
       "       [ -1.6347895 ,   1.26956191],\n",
       "       [ -9.84766691,  -0.29735996],\n",
       "       [ -1.75104258,   2.60297797],\n",
       "       [ -7.81641558,  -5.52245695],\n",
       "       [ -9.05867728,  -5.06248077],\n",
       "       [ -6.24303781,   3.82451667],\n",
       "       [ -8.49023402,  -4.79273965],\n",
       "       [ -6.05846326,   3.68299494],\n",
       "       [ -8.30170476,  -6.58082589],\n",
       "       [ -5.47611094,   2.51111507],\n",
       "       [ -9.29604944,   0.75403645],\n",
       "       [ -7.97457309,   3.38024003],\n",
       "       [ -9.47575199,   0.95429469],\n",
       "       [ -0.56121529,   3.47846479],\n",
       "       [ -8.2846382 ,   0.80183585],\n",
       "       [ -8.18285269,   1.49544478],\n",
       "       [ -6.1928849 ,   1.6662109 ],\n",
       "       [ -1.41694693,   2.73383544],\n",
       "       [ -6.47415895,   2.89419226],\n",
       "       [ -7.82750669,  -7.13181205],\n",
       "       [ -9.02364052,   2.98909827],\n",
       "       [ -8.15768931,  -5.67096133],\n",
       "       [ -9.13872182,  -4.4621146 ],\n",
       "       [ -6.43890219,   1.94812652]])"
      ]
     },
     "execution_count": 8,
     "metadata": {},
     "output_type": "execute_result"
    }
   ],
   "source": [
    "X"
   ]
  },
  {
   "cell_type": "markdown",
   "metadata": {},
   "source": [
    "Now we can go ahead and visualize the results as below:\n",
    "    \n",
    "```python\n",
    "# plot a scatter plot, color \n",
    "df = pd.DataFrame(dict(x=X[:,0], y=X[:,1], label=y))\n",
    "colors = {0:'red', 1:'blue', 2:'green'}\n",
    "fig, ax = pyplot.subplots()\n",
    "grouped = df.groupby('label')\n",
    "for key, group in grouped:\n",
    "    group.plot(ax=ax, kind='scatter', x='x', y='y', label=key, color=colors[key])\n",
    "plt.show()\n",
    "```\n",
    "    "
   ]
  },
  {
   "cell_type": "code",
   "execution_count": 9,
   "metadata": {},
   "outputs": [
    {
     "data": {
      "image/png": "[encoded data removed]",
      "text/plain": [
       "<Figure size 432x288 with 1 Axes>"
      ]
     },
     "metadata": {
      "needs_background": "light"
     },
     "output_type": "display_data"
    }
   ],
   "source": [
    "# plot a scatter plot, color \n",
    "df = pd.DataFrame(dict(x=X[:,0], y=X[:,1], label=y))\n",
    "colors = {0:'red', 1:'blue', 2:'green', 3:'purple', 4:'yellow'}\n",
    "fig, ax = plt.subplots()\n",
    "grouped = df.groupby('label')\n",
    "for key, group in grouped:\n",
    "    group.plot(ax=ax, kind='scatter', x='x', y='y', label=key, color=colors[key])\n",
    "plt.show()"
   ]
  },
  {
   "cell_type": "markdown",
   "metadata": {},
   "source": [
    "So above we see three different classes. We can generate any number of classes from above. This dataset can be used with a number of classifiers to see how accurately they perform. "
   ]
  },
  {
   "cell_type": "markdown",
   "metadata": {},
   "source": [
    "## `make_moons()`"
   ]
  },
  {
   "cell_type": "markdown",
   "metadata": {},
   "source": [
    "This function is used for binary classification problems with two classes and generates moon shaped patterns. This function allows you to create dataset and specify the level of noise in the data. That helps you make the dataset more complex if required to test the robustness of an algorithm . This is how you import this function from sklearn :\n",
    "```python\n",
    "from sklearn.datasets import make_moons\n",
    "X, y = make_moons(n_samples=100, noise=0.1)\n",
    "```\n"
   ]
  },
  {
   "cell_type": "code",
   "execution_count": 10,
   "metadata": {},
   "outputs": [],
   "source": [
    "from sklearn.datasets import make_moons\n",
    "X, y = make_moons(n_samples=100, noise=0.07)"
   ]
  },
  {
   "cell_type": "markdown",
   "metadata": {},
   "source": [
    "Now we can simply use the code from last example for visualization of the data "
   ]
  },
  {
   "cell_type": "code",
   "execution_count": 11,
   "metadata": {},
   "outputs": [
    {
     "data": {
      "image/png": "[encoded data removed]",
      "text/plain": [
       "<Figure size 432x288 with 1 Axes>"
      ]
     },
     "metadata": {
      "needs_background": "light"
     },
     "output_type": "display_data"
    }
   ],
   "source": [
    "df = pd.DataFrame(dict(x=X[:,0], y=X[:,1], label=y))\n",
    "colors = {0:'red', 1:'blue', 2:'green', 3:'purple', 4:'yellow'}\n",
    "fig, ax = plt.subplots()\n",
    "grouped = df.groupby('label')\n",
    "for key, group in grouped:\n",
    "    group.plot(ax=ax, kind='scatter', x='x', y='y', label=key, color=colors[key])\n",
    "plt.show()\n"
   ]
  },
  {
   "cell_type": "markdown",
   "metadata": {},
   "source": [
    "The noise parameter controls the shape of the data generated , Give it different values from 0 to 1 above and inspect the outcome. 0 noise would generate perfect moon shapes and 1 would be just noise and no underlying pattern. We can also see that this pattern is not \"linearly separable\" i.e. we can not draw a straight line to separate classes, this helps us try our non linear classification functions (like sigmoid and tanh etc.) "
   ]
  },
  {
   "cell_type": "markdown",
   "metadata": {},
   "source": [
    " ## `make_circles()` "
   ]
  },
  {
   "cell_type": "markdown",
   "metadata": {},
   "source": [
    "This function further complicates the generated data and creates values in form of concentric circles. It also features a noise parameter , similar to make_moons(). Below is how you import this function.  \n",
    "```python\n",
    "from sklearn.datasets import make_circles\n",
    "X, y = make_circles(n_samples=100, noise=0.05)\n",
    "```"
   ]
  },
  {
   "cell_type": "code",
   "execution_count": 12,
   "metadata": {},
   "outputs": [],
   "source": [
    "from sklearn.datasets import make_circles\n",
    "X, y = make_circles(n_samples=1000, noise=0.05)"
   ]
  },
  {
   "cell_type": "markdown",
   "metadata": {},
   "source": [
    "Bring in the plotting code from previous examples"
   ]
  },
  {
   "cell_type": "code",
   "execution_count": 14,
   "metadata": {},
   "outputs": [
    {
     "data": {
      "image/png": "[encoded data removed]",
      "text/plain": [
       "<Figure size 432x288 with 1 Axes>"
      ]
     },
     "metadata": {
      "needs_background": "light"
     },
     "output_type": "display_data"
    }
   ],
   "source": [
    "df = pd.DataFrame(dict(x=X[:,0], y=X[:,1], label=y))\n",
    "colors = {0:'red', 1:'blue', 2:'green', 3:'purple', 4:'yellow'}\n",
    "fig, ax = plt.subplots()\n",
    "grouped = df.groupby('label')\n",
    "for key, group in grouped:\n",
    "    group.plot(ax=ax, kind='scatter', x='x', y='y', label=key, color=colors[key])\n",
    "plt.show()\n"
   ]
  },
  {
   "cell_type": "markdown",
   "metadata": {},
   "source": [
    "This is also suitable for testing complex , non-linear classifiers. "
   ]
  },
  {
   "cell_type": "markdown",
   "metadata": {},
   "source": [
    " ## `make_regression()`"
   ]
  },
  {
   "cell_type": "markdown",
   "metadata": {},
   "source": [
    "This function allows you to create datasets which can be used to test regression algorithms for linear regression. Regression can be performed with a number of algorithms ranging from least squares to more advanced deep networks. We can create datasets by setting number of samples, number of input features, level of noise, and much more. Here is how we import this function:\n",
    "\n",
    "```python\n",
    "from sklearn.datasets import make_regression\n",
    "X, y = make_regression(n_samples=100, n_features=1, noise=0.1)\n",
    "\n",
    "# plot regression dataset\n",
    "plt.scatter(X,y)\n",
    "plt.show()\n",
    "\n",
    "```\n"
   ]
  },
  {
   "cell_type": "code",
   "execution_count": 2,
   "metadata": {},
   "outputs": [],
   "source": [
    "from sklearn.datasets import make_regression\n",
    "X, y = make_regression(n_samples=100, n_features=1, noise=0.1)\n"
   ]
  },
  {
   "cell_type": "code",
   "execution_count": 4,
   "metadata": {},
   "outputs": [
    {
     "ename": "NameError",
     "evalue": "name 'plt' is not defined",
     "output_type": "error",
     "traceback": [
      "\u001b[0;31m\u001b[0m",
      "\u001b[0;31mNameError\u001b[0mTraceback (most recent call last)",
      "\u001b[0;32m<ipython-input-4-25a5497c34f7>\u001b[0m in \u001b[0;36m<module>\u001b[0;34m()\u001b[0m\n\u001b[1;32m      1\u001b[0m \u001b[0;31m# plot regression dataset\u001b[0m\u001b[0;34m\u001b[0m\u001b[0;34m\u001b[0m\u001b[0m\n\u001b[0;32m----> 2\u001b[0;31m \u001b[0mplt\u001b[0m\u001b[0;34m.\u001b[0m\u001b[0mscatter\u001b[0m\u001b[0;34m(\u001b[0m\u001b[0mX\u001b[0m\u001b[0;34m,\u001b[0m\u001b[0my\u001b[0m\u001b[0;34m)\u001b[0m\u001b[0;34m\u001b[0m\u001b[0m\n\u001b[0m\u001b[1;32m      3\u001b[0m \u001b[0mplt\u001b[0m\u001b[0;34m.\u001b[0m\u001b[0mshow\u001b[0m\u001b[0;34m(\u001b[0m\u001b[0;34m)\u001b[0m\u001b[0;34m\u001b[0m\u001b[0m\n",
      "\u001b[0;31mNameError\u001b[0m: name 'plt' is not defined"
     ]
    }
   ],
   "source": [
    "# plot regression dataset\n",
    "plt.scatter(X,y)\n",
    "plt.show()"
   ]
  },
  {
   "cell_type": "markdown",
   "metadata": {},
   "source": [
    "We can further tweak the generated parameters to create non-linear relationships which can be solved using non-linear regression techniques. \n",
    "\n",
    "```python\n",
    "\n",
    "# Create a new y\n",
    "y2 = y**2\n",
    "y3 = y**3\n",
    "# plot regression dataset\n",
    "plt.scatter(X,y2)\n",
    "plt.show()\n",
    "plt.scatter(X,y3)\n",
    "plt.show()\n",
    "```"
   ]
  },
  {
   "cell_type": "code",
   "execution_count": 84,
   "metadata": {},
   "outputs": [
    {
     "data": {
      "image/png": "[encoded data removed]",
      "text/plain": [
       "<matplotlib.figure.Figure at 0x1a1c987d30>"
      ]
     },
     "metadata": {},
     "output_type": "display_data"
    },
    {
     "data": {
      "image/png": "[encoded data removed]",
      "text/plain": [
       "<matplotlib.figure.Figure at 0x1a1ca319e8>"
      ]
     },
     "metadata": {},
     "output_type": "display_data"
    }
   ],
   "source": [
    "# Code here "
   ]
  },
  {
   "cell_type": "markdown",
   "metadata": {},
   "source": [
    "## Level up - Optional \n",
    "\n",
    "sklearn comes with a lot of data generation functions. We have seen a few popular ones in this context. Kindly visit [This link](https://scikit-learn.org/stable/datasets/index.html) and have a look at section 5.4 to get more practice with these functions and see other similar functions. "
   ]
  },
  {
   "cell_type": "markdown",
   "metadata": {},
   "source": [
    "## Summary \n",
    "\n",
    "In this lesson, we looked at generating random datasets for classification and regression tasks using sklearn's built in functions. We looked at some of the attributes for generating data and you are encouraged to dig deeper with the official doc. and see what else can you achieve with more parameters. While learning a new algorithm, these synthetic datasets help you take your focus off the domain and work only with the computational and performance aspects of the algorithm. "
   ]
  }
 ],
 "metadata": {
  "kernelspec": {
   "display_name": "Python 3",
   "language": "python",
   "name": "python3"
  },
  "language_info": {
   "codemirror_mode": {
    "name": "ipython",
    "version": 3
   },
   "file_extension": ".py",
   "mimetype": "text/x-python",
   "name": "python",
   "nbconvert_exporter": "python",
   "pygments_lexer": "ipython3",
   "version": "3.6.6"
  }
 },
 "nbformat": 4,
 "nbformat_minor": 2
}
